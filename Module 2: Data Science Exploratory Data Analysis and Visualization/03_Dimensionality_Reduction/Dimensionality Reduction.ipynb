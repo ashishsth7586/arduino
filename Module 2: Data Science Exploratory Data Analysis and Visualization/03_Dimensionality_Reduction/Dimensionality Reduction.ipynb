{
 "cells": [
  {
   "cell_type": "markdown",
   "metadata": {},
   "source": [
    "# Dimensionality Reduction"
   ]
  },
  {
   "cell_type": "markdown",
   "metadata": {},
   "source": [
    "Imagine the scenario, what happens when the dataset has many variables (features) ? What is the best way to visualize such higher dimensional data?\n",
    "\n",
    "Here are few possible situations which you might come accross:\n",
    "* You find that most of the variables are correlated.\n",
    "* You lose patience and decide to run a model on the whole data. This returns poor accuracy and you feel terrible.\n",
    "* You become indecisive about what to do.\n",
    "* You start thinking of some strategic method to find few important features.\n",
    "\n",
    "Statistical Techniques such as factor analysis and principal component analysis help to overcome such difficulties.\n",
    "\n",
    "## Principal Component Analysis\n",
    "\n",
    "In simple words , PCA is a method of extracting important features from a large set of features available in a data set. It extracts low dimensional set of features from a high dimensional data set with a motive to capture as much information as possible. With fewer crucial features, visualization also becomes much more meaningful. PCA is more useful when dealing with 3 or higher dimensional data.\n",
    "\n",
    "It is always performed on a __symmetic correlation or covariance matrix__. This means the matrix should be numeric and have standardized data.\n",
    "\n",
    "Let's say we have a data set of dimension 300(m) x 50(n). m represents the number of observations and n represents number of features. Since we have a large n=50, there can be $n\\frac{(n-1)}{2}$ scatter plots i.e more than 1000 plots possible to analyze the variable relationship. Wouldn't it be a tedious job to perform exploratory data analysis on this data?\n",
    "\n",
    "In this case, it would be a lucid approach to slect a subset of n (n << 50) features which captures as much information. Followd by plotting the observation in the resultant low dimensional space.\n",
    "\n",
    "\n",
    "\n"
   ]
  }
 ],
 "metadata": {
  "kernelspec": {
   "display_name": "Python 3",
   "language": "python",
   "name": "python3"
  },
  "language_info": {
   "codemirror_mode": {
    "name": "ipython",
    "version": 3
   },
   "file_extension": ".py",
   "mimetype": "text/x-python",
   "name": "python",
   "nbconvert_exporter": "python",
   "pygments_lexer": "ipython3",
   "version": "3.6.9"
  }
 },
 "nbformat": 4,
 "nbformat_minor": 2
}
