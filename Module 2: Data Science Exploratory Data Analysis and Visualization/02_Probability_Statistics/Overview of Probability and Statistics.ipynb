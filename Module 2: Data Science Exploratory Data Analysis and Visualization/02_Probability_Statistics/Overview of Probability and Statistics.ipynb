{
 "cells": [
  {
   "cell_type": "markdown",
   "metadata": {},
   "source": [
    "# Probability and Statistics"
   ]
  },
  {
   "cell_type": "markdown",
   "metadata": {},
   "source": [
    "## 1. Random Variable\n",
    "\n",
    "A random variable, is a variable whose possible values are numerical outcomes of a random phenomenon. There are two types of random variables. They are as follows:\n",
    "1. Discrete Random Variable\n",
    "2. Continuous Random Variable\n",
    "\n",
    "### 1.1 Discrete Random Variable\n",
    "\n",
    "If a random variable can take one value from a finite set of values then such type of random variable is said to be __Discrete Random Variable.__\n",
    "Example: In case of dice experiment (Rolling a dice), the random variable say \"X\" is a discrete random variable as it can have only values among 6 values of dice faces which are {1,2,3,4,5,6}\n",
    "\n",
    "The _probability distribution_ of a discrete random variable is a list of probabilities associated with each of its possible values. It is also sometimes called the probability function or the probability mass function.\n",
    "\n",
    "Suppose a random variable X may take k different values, with the probability that $X = x_i$ defined to be $P(X = x_i) = p_i$. The probabilities $p_i$ must satisfy the following:\n",
    "\n",
    "1. 0 < $p_i$ < 1 for each i\n",
    "2. $p_1$ + $p_2$ + ... + $p_k$ = 1.\n",
    "\n",
    "<img src=\"img/drv.png\" />\n",
    "\n",
    "Suppose a variable X can take the values 1, 2, 3, or 4. \n",
    "The probabilities associated with each outcome are described by the following table:\n",
    "\n",
    "<table>\n",
    "    <tr>\n",
    "        <td><b>Outcome</b></td>\n",
    "        <td>1</td>\n",
    "        <td>2</td>\n",
    "        <td>3</td>\n",
    "        <td>4</td>\n",
    "    </tr>\n",
    "    <tr>\n",
    "        <td><strong>Probability</strong></td>\n",
    "        <td>0.1</td>\n",
    "        <td>0.3</td>\n",
    "        <td>0.4</td>\n",
    "        <td>0.2</td>\n",
    "    </tr>\n",
    "</table>\n",
    "\n",
    "The probability that X is equal to 2 or 3 is the sum of the two probabilities: $P(X = 2 or X = 3) = P(X = 2) + P(X = 3) = 0.3 + 0.4 = 0.7$. Similarly, the probability that Xis greater than 1 is equal to $1 - P(X = 1) = 1 - 0.1 = 0.9$, by the complement rule.\n",
    "This distribution may also be described by the probability histogram shown above.\n",
    "\n",
    "\n",
    "All random variables (discrete and continuous) have a ___cumulative distribution function___. It is a function giving the probability that the random variable X is less than or equal to x, for every value x. For a discrete random variable, the cumulative distribution function is found by summing up the probabilities.\n",
    "\n",
    "<img src=\"img/cdf.png\">\n",
    "\n",
    "The cumulative distribution function for the above probability distribution is calculated as follows: \n",
    "* The probability that X is less than or equal to 1 is 0.1, \n",
    "* The probability that X is less than or equal to 2 is 0.1+0.3 = 0.4, \n",
    "* The probability that X is less than or equal to 3 is 0.1+0.3+0.4 = 0.8, and \n",
    "* The probability that X is less than or equal to 4 is 0.1+0.3+0.4+0.2 = 1.\n",
    "\n",
    "The probability histogram for the cumulative distribution of this random variable is shown above."
   ]
  },
  {
   "cell_type": "markdown",
   "metadata": {},
   "source": [
    "### 1.2 Continuous Random Variable"
   ]
  },
  {
   "cell_type": "markdown",
   "metadata": {},
   "source": [
    "If a random variable can take infinite number of real values then such type of random variable is ___continuous random variable___. Continuous random variables are usually measurements. For example: height, weight of a person, amount of sugar in a cup of tea, the time required to run a mile.\n",
    "\n",
    "A continuous random variable is not defined at specific values. Instead, it is defined over an interval of values, and is represented by the ___area under a curve___. The probability of observing any single value is equal to 0, since the number of values which may be assumed by the random variable is infinite.\n",
    "\n",
    "Suppose a random variable X may take all values over an interval of real numbers. Then the probability that X is in the set of outcomes $A, P(A)$, is defined to be the area above A and under the curve. The curve which represents a function $p(x)$, must satisfy the following conditions:\n",
    "1. The curve has no negative values i.e $( p(x) \\geqslant 0$ for all $x )$\n",
    "2. The total area under the curve must be equal to 1.\n",
    "\n",
    "A curve meeting these requirements is called as ___density curve___."
   ]
  },
  {
   "cell_type": "code",
   "execution_count": null,
   "metadata": {},
   "outputs": [],
   "source": []
  }
 ],
 "metadata": {
  "kernelspec": {
   "display_name": "Python 3",
   "language": "python",
   "name": "python3"
  },
  "language_info": {
   "codemirror_mode": {
    "name": "ipython",
    "version": 3
   },
   "file_extension": ".py",
   "mimetype": "text/x-python",
   "name": "python",
   "nbconvert_exporter": "python",
   "pygments_lexer": "ipython3",
   "version": "3.6.9"
  }
 },
 "nbformat": 4,
 "nbformat_minor": 2
}
