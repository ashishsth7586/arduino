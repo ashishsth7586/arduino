{
 "cells": [
  {
   "cell_type": "code",
   "execution_count": 1,
   "metadata": {},
   "outputs": [],
   "source": [
    "import math"
   ]
  },
  {
   "cell_type": "code",
   "execution_count": 9,
   "metadata": {},
   "outputs": [],
   "source": [
    "# Time complexity: O(logn) ; base 2\n",
    "def binarySearch(arr, l, r, x):\n",
    "    \n",
    "    # check best case\n",
    "    if r >= 1:\n",
    "        \n",
    "        mid = 1 + math.floor((r - 1) / 2)\n",
    "        \n",
    "        # If element is present at the middle\n",
    "        if arr[mid] == x:\n",
    "            return mid\n",
    "        \n",
    "        # If element is smaller than mid, then it can only\n",
    "        # be present in left subarray\n",
    "        elif arr[mid] > x:\n",
    "            return binarySearch(array, 1, mid-1, x)\n",
    "        \n",
    "        # Else the element can only be present\n",
    "        # in right sub array\n",
    "        else:\n",
    "            return binarySearch(arr, mid + 1, r, x)\n",
    "    else:\n",
    "        # Element is not present in the array\n",
    "        return -1\n"
   ]
  },
  {
   "cell_type": "code",
   "execution_count": 10,
   "metadata": {},
   "outputs": [
    {
     "name": "stdout",
     "output_type": "stream",
     "text": [
      " The index of 31 in the list is: 6\n"
     ]
    }
   ],
   "source": [
    "l = [45, 25, 14, 85, 75, 96, 31, 22, 1, 45, 65, 22, 11]\n",
    "l.sort()\n",
    "arr = l\n",
    "q = 31\n",
    "index_q = binarySearch(arr, 0, len(arr)-1, q)\n",
    "print(f\" The index of {q} in the list is: {index_q}\")"
   ]
  },
  {
   "cell_type": "markdown",
   "metadata": {},
   "source": [
    "# Find elements common in two lists:"
   ]
  },
  {
   "cell_type": "code",
   "execution_count": 11,
   "metadata": {},
   "outputs": [],
   "source": [
    "import random\n",
    "\n",
    "l1 = list(range(100))\n",
    "random.shuffle(l1)"
   ]
  },
  {
   "cell_type": "code",
   "execution_count": 15,
   "metadata": {},
   "outputs": [
    {
     "name": "stdout",
     "output_type": "stream",
     "text": [
      "The list of common elements are: \n",
      " [6, 0, 15, 47, 31, 13, 18, 10, 33, 30, 43, 45, 22, 23, 24, 16, 7, 8, 36, 28, 35, 14, 48, 34, 3, 5, 20, 29, 39, 38, 27, 32, 49, 12, 25, 2, 21, 40, 42, 9, 1, 44, 37, 26, 19, 46, 4, 17, 11, 41]\n",
      "\n",
      "Number of common elements are: 50\n"
     ]
    }
   ],
   "source": [
    "l2 = list(range(50))\n",
    "random.shuffle(l2)\n",
    "\n",
    "# find common elements: O(n * m)\n",
    "count = 0\n",
    "common_list = list()\n",
    "for i in l1:\n",
    "    for j in l2:\n",
    "        if i == j:\n",
    "            common_list.append(i)\n",
    "            count += 1\n",
    "print(f\"The list of common elements are: \\n {common_list}\")\n",
    "print(f\"\\nNumber of common elements are: {count}\")"
   ]
  },
  {
   "cell_type": "markdown",
   "metadata": {},
   "source": [
    "__For reducing__ this time complexity we use a datastructure: __Dictionary__.\n",
    "\n",
    "Dictionary has O(1) Search time using Hash Function.\n",
    "\n",
    "\n",
    "Here, the time complexity is reduced to O(n * m) to O(n) but space complexity has increased to O(m).\n",
    "There is a trade-off between time and space complexity. We are mainly concerned with reducing  Time complexity."
   ]
  },
  {
   "cell_type": "code",
   "execution_count": 16,
   "metadata": {},
   "outputs": [
    {
     "name": "stdout",
     "output_type": "stream",
     "text": [
      "The list of common elements are: \n",
      " [14, 39, 23, 16, 10, 9, 0, 36, 37, 17, 8, 27, 1, 5, 47, 32, 15, 7, 13, 6, 2, 12, 29, 34, 20, 19, 35, 44, 18, 45, 30, 11, 40, 25, 28, 24, 41, 48, 43, 49, 21, 33, 31, 38, 22, 3, 26, 42, 4, 46]\n",
      "\n",
      "Number of common elements are: 50\n"
     ]
    }
   ],
   "source": [
    "l1 = list(range(100))\n",
    "random.shuffle(l1)\n",
    "\n",
    "l2 = list(range(50))\n",
    "random.shuffle(l2)\n",
    "\n",
    "# Find common elements in lists in O(n) time and O(m) space if m<n\n",
    "# add all elements in the smallest list into Dictionary: O(m) space\n",
    "smallList = {}\n",
    "for ele in l2:\n",
    "    smallList[ele] = 1 # any value is OK. Here key is important\n",
    "\n",
    "# Now find common element\n",
    "count = 0\n",
    "common_list = list()\n",
    "for i in l1:\n",
    "    if smallList.get(i) != None: # Search happens in constant time\n",
    "        common_list.append(i)\n",
    "        count += 1\n",
    "print(f\"The list of common elements are: \\n {common_list}\")\n",
    "print(f\"\\nNumber of common elements are: {count}\")"
   ]
  },
  {
   "cell_type": "code",
   "execution_count": null,
   "metadata": {},
   "outputs": [],
   "source": []
  }
 ],
 "metadata": {
  "kernelspec": {
   "display_name": "Python 3",
   "language": "python",
   "name": "python3"
  },
  "language_info": {
   "codemirror_mode": {
    "name": "ipython",
    "version": 3
   },
   "file_extension": ".py",
   "mimetype": "text/x-python",
   "name": "python",
   "nbconvert_exporter": "python",
   "pygments_lexer": "ipython3",
   "version": "3.6.9"
  }
 },
 "nbformat": 4,
 "nbformat_minor": 2
}
