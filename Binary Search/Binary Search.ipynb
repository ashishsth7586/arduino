{
 "cells": [
  {
   "cell_type": "code",
   "execution_count": 1,
   "metadata": {},
   "outputs": [],
   "source": [
    "import math"
   ]
  },
  {
   "cell_type": "code",
   "execution_count": 9,
   "metadata": {},
   "outputs": [],
   "source": [
    "# Time complexity: O(logn) ; base 2\n",
    "def binarySearch(arr, l, r, x):\n",
    "    \n",
    "    # check best case\n",
    "    if r >= 1:\n",
    "        \n",
    "        mid = 1 + math.floor((r - 1) / 2)\n",
    "        \n",
    "        # If element is present at the middle\n",
    "        if arr[mid] == x:\n",
    "            return mid\n",
    "        \n",
    "        # If element is smaller than mid, then it can only\n",
    "        # be present in left subarray\n",
    "        elif arr[mid] > x:\n",
    "            return binarySearch(array, 1, mid-1, x)\n",
    "        \n",
    "        # Else the element can only be present\n",
    "        # in right sub array\n",
    "        else:\n",
    "            return binarySearch(arr, mid + 1, r, x)\n",
    "    else:\n",
    "        # Element is not present in the array\n",
    "        return -1\n"
   ]
  },
  {
   "cell_type": "code",
   "execution_count": 10,
   "metadata": {},
   "outputs": [
    {
     "name": "stdout",
     "output_type": "stream",
     "text": [
      " The index of 31 in the list is: 6\n"
     ]
    }
   ],
   "source": [
    "l = [45, 25, 14, 85, 75, 96, 31, 22, 1, 45, 65, 22, 11]\n",
    "l.sort()\n",
    "arr = l\n",
    "q = 31\n",
    "index_q = binarySearch(arr, 0, len(arr)-1, q)\n",
    "print(f\" The index of {q} in the list is: {index_q}\")"
   ]
  },
  {
   "cell_type": "code",
   "execution_count": null,
   "metadata": {},
   "outputs": [],
   "source": []
  }
 ],
 "metadata": {
  "kernelspec": {
   "display_name": "Python 3",
   "language": "python",
   "name": "python3"
  },
  "language_info": {
   "codemirror_mode": {
    "name": "ipython",
    "version": 3
   },
   "file_extension": ".py",
   "mimetype": "text/x-python",
   "name": "python",
   "nbconvert_exporter": "python",
   "pygments_lexer": "ipython3",
   "version": "3.6.9"
  }
 },
 "nbformat": 4,
 "nbformat_minor": 2
}
